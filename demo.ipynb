{
 "cells": [
  {
   "cell_type": "markdown",
   "metadata": {},
   "source": [
    "Esta é uma sugestão de demonstração dos módulos, em vez de ter um ficheiro `main.py` ou `demo.py`, é possível ver o código a ser executado.\n",
    "Remover caso não seja adequado."
   ]
  },
  {
   "cell_type": "code",
   "execution_count": 4,
   "metadata": {},
   "source": [
    "# Demo de utils\n",
    "# Demo de utils - Gerador de sequências\n",
    "from utils import gerador_seqs\n",
    "seqs = gerador_seqs(20 , 5)\n",
    "#seqs"
   ],
   "outputs": []
  },
  {
   "cell_type": "code",
   "execution_count": 5,
   "metadata": {},
   "source": [
    "# PWM\n",
    "from utils import pwm\n",
    "pwm(['CC', 'AA', 'AA' , 'AA'])"
   ],
   "outputs": []
  },
  {
   "cell_type": "code",
   "execution_count": 6,
   "metadata": {},
   "source": [
    "# Testes das funções auxiliares\n",
    "!python -m tests.test_utils"
   ],
   "outputs": []
  },
  {
   "cell_type": "code",
   "execution_count": 7,
   "metadata": {},
   "source": [
    "# Demo de gibbs_sampling\n",
    "from utils import gerador_seqs\n",
    "from gibbs_sampling import gibbs_sampling\n",
    "seqs = gerador_seqs(20, 5)\n",
    "gibbs_sampling(seqs, 5, 100, 0.5)"
   ],
   "outputs": []
  },
  {
   "cell_type": "code",
   "execution_count": 8,
   "metadata": {},
   "source": [
    "# Teste do módulo Gibbs Sampling\n",
    "#!python -m tests.test_gibbs_sampling"
   ],
   "outputs": []
  },
  {
   "cell_type": "code",
   "execution_count": 9,
   "metadata": {},
   "source": [
    "# Demo de algoritmos evolucionários"
   ],
   "outputs": []
  },
  {
   "cell_type": "code",
   "metadata": {
    "ExecuteTime": {
     "end_time": "2024-05-07T15:18:09.051368Z",
     "start_time": "2024-05-07T15:18:09.048675Z"
    }
   },
   "source": [
    "# Teste do módulo de algoritmos evolucionários\n",
    "#!python -m tests.test_evol_alg\n",
    "print('oi')"
   ],
   "outputs": [
    {
     "name": "stdout",
     "output_type": "stream",
     "text": [
      "oi)\n"
     ]
    }
   ],
   "execution_count": 25
  },
  {
   "cell_type": "code",
   "metadata": {},
   "source": [
    "# Demo do módulo de grafos\n",
    "from grafos import *\n",
    "\n",
    "grafo = Graph()\n",
    "grafo.add_edges(['1 -> 2, 3, 4','2 -> 5, 6', '5 -> 7', '3 -> 6, 8', '4 -> 8' ])\n",
    "displ = grafo.show(txt=True, gviz=False)\n",
    "#export = grafo.show()\n",
    "#export.view()\n",
    "#grafo.traverse_bfs('2')\n",
    "# Para exportar\n",
    "#export.view()\n",
    "print('hello')"
   ],
   "outputs": [],
   "execution_count": null
  },
  {
   "metadata": {},
   "cell_type": "code",
   "outputs": [],
   "execution_count": null,
   "source": "grafo.g"
  },
  {
   "cell_type": "code",
   "execution_count": null,
   "metadata": {},
   "source": [
    "# Teste de grafos\n",
    "\n"
   ],
   "outputs": []
  }
 ],
 "metadata": {
  "kernelspec": {
   "display_name": "Python 3",
   "language": "python",
   "name": "python3"
  },
  "language_info": {
   "codemirror_mode": {
    "name": "ipython",
    "version": 3
   },
   "file_extension": ".py",
   "mimetype": "text/x-python",
   "name": "python",
   "nbconvert_exporter": "python",
   "pygments_lexer": "ipython3",
   "version": "3.12.2"
  }
 },
 "nbformat": 4,
 "nbformat_minor": 2
}
