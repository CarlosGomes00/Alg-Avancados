{
 "cells": [
  {
   "cell_type": "markdown",
   "metadata": {},
   "source": [
    "Esta é uma sugestão de demonstração dos módulos, em vez de ter um ficheiro `main.py` ou `demo.py`, é possível ver o código a ser executado.\n",
    "Remover caso não seja adequado."
   ]
  },
  {
   "cell_type": "code",
   "execution_count": 2,
   "metadata": {},
   "outputs": [
    {
     "name": "stdout",
     "output_type": "stream",
     "text": [
      "Threshold 0.5 atingido ao fim de 12 iterações.\n"
     ]
    },
    {
     "data": {
      "text/plain": [
       "[('S3', 'p = 14', 'GATAC', 0.33333),\n",
       " ('S0', 'p = 14', 'GATAC', 0.33333),\n",
       " ('S3', 'p = 12', 'CTGAT', 0.42857),\n",
       " ('S1', 'p = 5', 'ATTTC', 0.47368),\n",
       " ('S2', 'p = 5', 'ATTTC', 0.47368),\n",
       " ('S2', 'p = 5', 'ATTTC', 0.47368),\n",
       " ('S2', 'p = 5', 'ATTTC', 0.47368),\n",
       " ('S1', 'p = 5', 'ATTTC', 0.47368),\n",
       " ('S3', 'p = 5', 'ATTTC', 0.47368),\n",
       " ('S2', 'p = 5', 'ATTTC', 0.47368),\n",
       " ('S0', 'p = 5', 'ATTTC', 0.47368),\n",
       " ('S1', 'p = 10', 'AGCAG', 0.52941)]"
      ]
     },
     "execution_count": 2,
     "metadata": {},
     "output_type": "execute_result"
    }
   ],
   "source": [
    "# Demo de gibbs_sampling\n",
    "from utils import gerador_seqs\n",
    "from gibbs_sampling import gibbs_sampling\n",
    "\n",
    "seqs = gerador_seqs(20, 5)\n",
    "\n",
    "gibbs_sampling(seqs, 5, 100, 0.5)"
   ]
  }
 ],
 "metadata": {
  "kernelspec": {
   "display_name": "Python 3",
   "language": "python",
   "name": "python3"
  },
  "language_info": {
   "codemirror_mode": {
    "name": "ipython",
    "version": 3
   },
   "file_extension": ".py",
   "mimetype": "text/x-python",
   "name": "python",
   "nbconvert_exporter": "python",
   "pygments_lexer": "ipython3",
   "version": "3.12.2"
  }
 },
 "nbformat": 4,
 "nbformat_minor": 2
}
