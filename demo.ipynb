{
 "cells": [
  {
   "cell_type": "markdown",
   "metadata": {},
   "source": [
    "Esta é uma sugestão de demonstração dos módulos, em vez de ter um ficheiro `main.py` ou `demo.py`, é possível ver o código a ser executado.\n",
    "Remover caso não seja adequado."
   ]
  },
  {
   "cell_type": "code",
   "metadata": {
    "ExecuteTime": {
     "end_time": "2024-05-19T16:32:47.737106Z",
     "start_time": "2024-05-19T16:32:47.649127Z"
    }
   },
   "source": [
    "# Testes das funções auxiliares\n",
    "!python -m tests.test_utils"
   ],
   "outputs": [
    {
     "name": "stderr",
     "output_type": "stream",
     "text": [
      "test_pwm (__main__.TestarUtils.test_pwm) ... ok\n",
      "\n",
      "----------------------------------------------------------------------\n",
      "Ran 1 test in 0.000s\n",
      "\n",
      "OK\n"
     ]
    }
   ],
   "execution_count": 20
  },
  {
   "cell_type": "code",
   "execution_count": 11,
   "metadata": {},
   "outputs": [],
   "source": [
    "# Teste do módulo Gibbs Sampling\n",
    "#!python -m tests.test_gibbs_sampling"
   ]
  },
  {
   "cell_type": "code",
   "execution_count": null,
   "metadata": {},
   "outputs": [],
   "source": [
    "# Teste do módulo de algoritmos evolucionários\n",
    "#!python -m tests.test_evol_alg"
   ]
  },
  {
   "cell_type": "code",
   "metadata": {
    "ExecuteTime": {
     "end_time": "2024-05-19T16:38:54.067514Z",
     "start_time": "2024-05-19T16:38:53.580595Z"
    }
   },
   "source": [
    "# Testes do módulo de grafos\n",
    "!python -m tests.test_grafos"
   ],
   "outputs": [
    {
     "name": "stdout",
     "output_type": "stream",
     "text": [
      "Node does not exist.\n"
     ]
    },
    {
     "name": "stderr",
     "output_type": "stream",
     "text": [
      "testAddEdge (__main__.TestGrafos.testAddEdge) ... ok\n",
      "testAddNode (__main__.TestGrafos.testAddNode) ... ok\n",
      "testAdjMatrix (__main__.TestGrafos.testAdjMatrix) ... ok\n",
      "testBFSTraversal (__main__.TestGrafos.testBFSTraversal) ... ok\n",
      "testCreate (__main__.TestGrafos.testCreate) ... ok\n",
      "testCycleCheckR (__main__.TestGrafos.testCycleCheckR) ... ok\n",
      "testDFSTraversal (__main__.TestGrafos.testDFSTraversal) ... ok\n",
      "testDisplay (__main__.TestGrafos.testDisplay) ... ok\n",
      "testDistCalc (__main__.TestGrafos.testDistCalc) ... ok\n",
      "testDistTable (__main__.TestGrafos.testDistTable) ... ok\n",
      "testEdgeRemoval (__main__.TestGrafos.testEdgeRemoval) ... ok\n",
      "testGetAdjacents (__main__.TestGrafos.testGetAdjacents) ... ok\n",
      "testGetPredecessors (__main__.TestGrafos.testGetPredecessors) ... ok\n",
      "testGetSuccessors (__main__.TestGrafos.testGetSuccessors) ... ok\n",
      "testNodeRemoval (__main__.TestGrafos.testNodeRemoval) ... ok\n",
      "testAddWeight (__main__.TestGrafosPesados.testAddWeight) ... ok\n",
      "testBuildR (__main__.TestGrafosPesados.testBuildR) ... ok\n",
      "testDijkstra (__main__.TestGrafosPesados.testDijkstra) ... ok\n",
      "\n",
      "----------------------------------------------------------------------\n",
      "Ran 18 tests in 0.003s\n",
      "\n",
      "OK\n"
     ]
    }
   ],
   "execution_count": 24
  }
 ],
 "metadata": {
  "kernelspec": {
   "display_name": "Python 3",
   "language": "python",
   "name": "python3"
  },
  "language_info": {
   "codemirror_mode": {
    "name": "ipython",
    "version": 3
   },
   "file_extension": ".py",
   "mimetype": "text/x-python",
   "name": "python",
   "nbconvert_exporter": "python",
   "pygments_lexer": "ipython3",
   "version": "3.12.2"
  }
 },
 "nbformat": 4,
 "nbformat_minor": 2
}
