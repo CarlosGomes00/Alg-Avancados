{
 "cells": [
  {
   "cell_type": "markdown",
   "metadata": {},
   "source": [
    "Esta é uma sugestão de demonstração dos módulos, em vez de ter um ficheiro `main.py` ou `demo.py`, é possível ver o código a ser executado.\n",
    "Remover caso não seja adequado."
   ]
  },
  {
   "cell_type": "code",
   "metadata": {
    "ExecuteTime": {
     "end_time": "2024-05-19T16:32:47.737106Z",
     "start_time": "2024-05-19T16:32:47.649127Z"
    }
   },
   "source": [
    "# Testes das funções auxiliares\n",
    "!python -m tests.test_utils"
   ],
   "execution_count": 20,
   "outputs": []
  },
  {
   "cell_type": "code",
   "execution_count": 11,
   "metadata": {},
   "source": [
    "# Teste do módulo Gibbs Sampling\n",
    "#!python -m tests.test_gibbs_sampling"
   ],
   "outputs": []
  },
  {
   "cell_type": "code",
   "execution_count": null,
   "metadata": {},
   "source": [
    "# Teste do módulo de algoritmos evolucionários\n",
    "#!python -m tests.test_evol_alg"
   ],
   "outputs": []
  },
  {
   "cell_type": "code",
   "metadata": {
    "ExecuteTime": {
     "end_time": "2024-05-19T16:38:54.067514Z",
     "start_time": "2024-05-19T16:38:53.580595Z"
    }
   },
   "source": [
    "# Testes do módulo de grafos\n",
    "!python -m tests.test_grafos"
   ],
   "execution_count": 24,
   "outputs": []
  }
 ],
 "metadata": {
  "kernelspec": {
   "display_name": "Python 3",
   "language": "python",
   "name": "python3"
  },
  "language_info": {
   "codemirror_mode": {
    "name": "ipython",
    "version": 3
   },
   "file_extension": ".py",
   "mimetype": "text/x-python",
   "name": "python",
   "nbconvert_exporter": "python",
   "pygments_lexer": "ipython3",
   "version": "3.12.2"
  }
 },
 "nbformat": 4,
 "nbformat_minor": 2
}
