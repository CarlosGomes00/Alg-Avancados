{
 "cells": [
  {
   "cell_type": "markdown",
   "metadata": {},
   "source": [
    "Esta é uma sugestão de demonstração dos módulos, em vez de ter um ficheiro `main.py` ou `demo.py`, é possível ver o código a ser executado.\n",
    "Remover caso não seja adequado."
   ]
  },
  {
   "cell_type": "code",
   "execution_count": 6,
   "metadata": {},
   "outputs": [],
   "source": [
    "# Demo de utils\n",
    "# Demo de utils - Gerador de sequências\n",
    "from utils import gerador_seqs\n",
    "seqs = gerador_seqs(20 , 5)\n",
    "#seqs"
   ]
  },
  {
   "cell_type": "code",
   "execution_count": 34,
   "metadata": {},
   "outputs": [
    {
     "data": {
      "text/plain": [
       "{'A': [0.5, 0.5], 'C': [0.25, 0.25], 'G': [0.125, 0.125], 'T': [0.125, 0.125]}"
      ]
     },
     "execution_count": 34,
     "metadata": {},
     "output_type": "execute_result"
    }
   ],
   "source": [
    "# PWM\n",
    "from utils import pwm\n",
    "pwm(['CC', 'AA', 'AA' , 'AA'])"
   ]
  },
  {
   "cell_type": "code",
   "execution_count": 9,
   "metadata": {},
   "outputs": [
    {
     "name": "stderr",
     "output_type": "stream",
     "text": [
      "test_pwm (__main__.TestarUtils.test_pwm) ... ok\n",
      "\n",
      "----------------------------------------------------------------------\n",
      "Ran 1 test in 0.000s\n",
      "\n",
      "OK\n"
     ]
    }
   ],
   "source": [
    "# Testes das funções auxiliares\n",
    "!python -m tests.test_utils"
   ]
  },
  {
   "cell_type": "code",
   "execution_count": 10,
   "metadata": {},
   "outputs": [
    {
     "name": "stdout",
     "output_type": "stream",
     "text": [
      "Threshold 0.5 atingido ao fim de 2 iterações.\n"
     ]
    },
    {
     "data": {
      "text/plain": [
       "[('S1', 'p = 9', 'CCAGT', 0.42857), ('S0', 'p = 8', 'GCACA', 0.52941)]"
      ]
     },
     "execution_count": 10,
     "metadata": {},
     "output_type": "execute_result"
    }
   ],
   "source": [
    "# Demo de gibbs_sampling\n",
    "from utils import gerador_seqs\n",
    "from gibbs_sampling import gibbs_sampling\n",
    "seqs = gerador_seqs(20, 5)\n",
    "gibbs_sampling(seqs, 5, 100, 0.5)"
   ]
  },
  {
   "cell_type": "code",
   "execution_count": 11,
   "metadata": {},
   "outputs": [],
   "source": [
    "# Teste do módulo Gibbs Sampling\n",
    "#!python -m tests.test_gibbs_sampling"
   ]
  },
  {
   "cell_type": "code",
   "execution_count": 12,
   "metadata": {},
   "outputs": [],
   "source": [
    "# Demo de algoritmos evolucionários"
   ]
  },
  {
   "cell_type": "code",
   "execution_count": null,
   "metadata": {},
   "outputs": [],
   "source": [
    "# Teste do módulo de algoritmos evolucionários\n",
    "#!python -m tests.test_evol_alg"
   ]
  }
 ],
 "metadata": {
  "kernelspec": {
   "display_name": "Python 3",
   "language": "python",
   "name": "python3"
  },
  "language_info": {
   "codemirror_mode": {
    "name": "ipython",
    "version": 3
   },
   "file_extension": ".py",
   "mimetype": "text/x-python",
   "name": "python",
   "nbconvert_exporter": "python",
   "pygments_lexer": "ipython3",
   "version": "3.12.2"
  }
 },
 "nbformat": 4,
 "nbformat_minor": 2
}
