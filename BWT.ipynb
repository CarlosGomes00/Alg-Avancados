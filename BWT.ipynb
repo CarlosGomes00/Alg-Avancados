{
 "cells": [
  {
   "cell_type": "code",
   "execution_count": 5,
   "metadata": {},
   "outputs": [],
   "source": [
    "def bwt_transf(seq):\n",
    "    \"\"\"\n",
    "    -Realiza a transformação de Burrows-Wheeler em uma sequência dada.\n",
    "\n",
    "    -Parâmetros:\n",
    "    seq (str): A sequência de entrada.\n",
    "\n",
    "    -Retorna:\n",
    "    tuple: Uma tupla contendo a sequência transformada de Burrows-Wheeler e o índice original da sequência na lista de rotações.\n",
    "    \"\"\"\n",
    "\n",
    "    # Adiciona o caractere de terminação '$' à sequência\n",
    "    seq += '$'\n",
    "    \n",
    "    # Gera todas as rotações da sequência\n",
    "    rotations = [seq[i:] + seq[:i] for i in range(len(seq))]\n",
    "    # Ordena as rotações\n",
    "    rotations.sort()\n",
    "\n",
    "    # Concatena os últimos caracteres de cada rotação para formar a BWT\n",
    "    bwt = ''.join(rotation[-1] for rotation in rotations)\n",
    "\n",
    "    # Retorna a BWT e o índice original da sequência na lista de rotações\n",
    "    return bwt, rotations.index(seq)\n",
    "\n",
    "def bwt_reverse(bwt):\n",
    "    \"\"\"\n",
    "    -Reverte a transformação de Burrows-Wheeler em uma sequência original.\n",
    "    \n",
    "    -Parâmetros:\n",
    "    bwt (str): A sequência de Burrows-Wheeler.\n",
    "    \n",
    "    -Retorna:\n",
    "    str: A sequência original.\n",
    "    \"\"\"\n",
    "\n",
    "    # Cria uma lista vazia do tamanho da sequência BWT\n",
    "    table = [None] * len(bwt)\n",
    "\n",
    "    # Executa o processo inverso de construção da tabela\n",
    "    for _ in range(len(bwt)):\n",
    "        table = [bwt[i] + (table[i] if table[i] is not None else '') for i in range(len(bwt))]\n",
    "        table.sort()\n",
    "\n",
    "    # Retorna a sequência original encontrada na tabela na posição do caractere de terminação '$'\n",
    "    return table[bwt.index('$')]\n"
   ]
  }
 ],
 "metadata": {
  "kernelspec": {
   "display_name": "base",
   "language": "python",
   "name": "python3"
  },
  "language_info": {
   "codemirror_mode": {
    "name": "ipython",
    "version": 3
   },
   "file_extension": ".py",
   "mimetype": "text/x-python",
   "name": "python",
   "nbconvert_exporter": "python",
   "pygments_lexer": "ipython3",
   "version": "3.11.4"
  }
 },
 "nbformat": 4,
 "nbformat_minor": 2
}
