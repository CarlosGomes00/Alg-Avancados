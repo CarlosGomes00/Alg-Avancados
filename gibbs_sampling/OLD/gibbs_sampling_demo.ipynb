{
 "cells": [
  {
   "cell_type": "markdown",
   "metadata": {
    "collapsed": false
   },
   "source": [
    "TODO:\n",
    "\n",
    "- Remover o código assim que ficar finalizado e passado para a pasta scripts\n",
    "- Escrever testes e documentação de funções\n",
    "- "
   ]
  },
  {
   "cell_type": "markdown",
   "metadata": {
    "id": "N6skkvM8w1YV"
   },
   "source": [
    "# Gibbs Sampling, o que é?\n",
    "\n",
    "É um algoritmo do tipo MCMC (Markov Chain monte Carlo) tipicamente utilizado para extrair amostras de distribuições de probabilidade n-dimensionais, facilitando a amostragem.\n",
    "\n",
    "É uma técnica que serve para obter uma sequência de observações (neste caso uma sub-sequências de DNA).\n",
    "\n",
    "# Como serve para encontrar *motifs*?\n",
    "\n",
    "Serve para encontrar o padrão/*motif* mais comum a um conjunto de sequências partindo de um conjunto aleatório de padrões.\n",
    "\n",
    "# Como é aplicado?\n",
    "\n",
    "0. Considerando um conjunto de T sequências de tamanho N, é gerada a sua PWM\n",
    "\n",
    "1. Computamos o subtotal de todas as sequências em função do PWM multiplicando a ocorrência de cada nucleótido pela sua probabilidade na PWM.\n",
    "\n",
    "2. É procurada a sub-sequência de tamanho L na sequência S<sub>i</sub> a partir da posição P (P $\\le$ N-L), em que P é selecionada aleatoriamente em função da distribuição de probabilidades e score total da sequência - P(motif|score da sequência). É computado o *score* do *motif* em função da matriz de probabilidade (PWM)\n",
    "\n",
    "3. Repetimos este passo para todas as restantes sequências (S<sub>i+1</sub>,...,S<sub>t</sub>), atualizando o melhor motif caso o score dos motifs identificados for superior ao melhor atual.\n",
    "\n",
    "4. São feitas sucessivas iterações até convergir para um *motif* mais comum ao conjunto de todas as sequências S (S<sub>i</sub>,...,S<sub>i+t</sub>) e encontrar as melhores posições.\n"
   ]
  },
  {
   "cell_type": "code",
   "execution_count": null,
   "metadata": {
    "colab": {
     "base_uri": "https://localhost:8080/",
     "height": 53
    },
    "id": "2SLMrpK-w1Fp",
    "outputId": "320f99e2-8165-49e8-d34f-163e8f548719"
   },
   "source": [
    "# Conjunto de sequências\n",
    "seqs = 'aaaaaa aaaaaa aaaaaa gggggg'.split()\n",
    "\n",
    "'''\n",
    "Criamos a PWM de forma rápida\n",
    "\n",
    "Neste caso usamos uma lista por compreensão com recurso ao método zip(*seqqs) que\n",
    "irá emparelhar as sequências posição a posição e faz a contagem da base / pelo total\n",
    "\n",
    "Incluímos já a consideração de pseudocontagens\n",
    "'''"
   ],
   "outputs": []
  },
  {
   "cell_type": "code",
   "execution_count": null,
   "metadata": {
    "id": "NtzB2-sICgvN"
   },
   "source": [
    "from random import randint as ri\n",
    "from random import choice\n",
    "\n",
    "# Gerar sequências aleatoriamente para teste\n",
    "seqs = new_seqs = [''.join(choice('ACGT') for _ in range(20)) for i in range(10)]"
   ],
   "outputs": []
  },
  {
   "cell_type": "code",
   "execution_count": 11,
   "metadata": {
    "id": "3dv2Mzv09UHk"
   },
   "source": [
    "def gerar_seqs(n,t):\n",
    "  from random import choice\n",
    "  return [''.join(choice('ACGT') for p in range(n)) for i in range(t)]\n"
   ],
   "outputs": []
  },
  {
   "cell_type": "code",
   "execution_count": 12,
   "metadata": {
    "id": "AlWuPJocwuek"
   },
   "source": [
    "'''\n",
    "Selecionamos posições aleatórias para cada sequência, tendo em atenção o\n",
    "tamanho do nosso motif\n",
    "'''\n",
    "\n",
    "# Declaramos o tamanho do nosso motif\n",
    "L = 8\n",
    "\n",
    "# Declaramos t, que corresponde ao número de sequências que temos\n",
    "t = len(new_seqs) -1\n",
    "\n",
    "# Declaramos n, que corresponde ao tamanho das nossas sequências\n",
    "# assumindo que são todas de tamanho igual\n",
    "n = len(new_seqs[0])\n",
    "\n",
    "# Declaramos o valor máximo de offset que podemos atingir\n",
    "offset_max = n - L"
   ],
   "outputs": []
  },
  {
   "cell_type": "code",
   "execution_count": 13,
   "metadata": {
    "id": "XB3Iz0odv0Uu"
   },
   "source": [
    "# De seguida escolhemos uma sequência aleatoriamente da nossa lista de sequências\n",
    "# para analisar a probabilidade de cada um dos motifs ocorrer nessa sequência\n",
    "# Atentar no len(lista) - 1 para garantir que estamos sempre no índice\n",
    "\n",
    "def escolhe_seq(seqs):\n",
    "  from random import choice\n",
    "  return choice(list(enumerate(seqs)))\n"
   ],
   "outputs": []
  },
  {
   "cell_type": "code",
   "execution_count": 49,
   "metadata": {
    "id": "JuwQ3WbskYm4"
   },
   "source": [
    "# Criamos um vetor com as posições selecionadas aleatoriamente\n",
    "# E criamos os snips para cada um deles\n",
    "from random import randint as ri\n",
    "from random import choice\n",
    "\n",
    "# Gerar sequências aleatoriamente para teste\n",
    "seqs = gerar_seqs(50,10)\n",
    "\n",
    "indice, escolhida = escolhe_seq(seqs)\n",
    "\n",
    "# Função para gerar snips aleatórios de sequências exceto a escolhida\n",
    "def gerar_snips(seqs , L , offset_max, indice):\n",
    "\n",
    "  from random import randint as ri\n",
    "\n",
    "  offsets = [ri(0,offset_max) for pos, seq in enumerate(seqs) if pos != indice]\n",
    "  snips = [seq[pos: pos + L] for seq, pos in zip(seqs,offsets) if seq != seq[indice]]\n",
    "\n",
    "  return offsets, snips\n",
    "\n",
    "offsets, snips = gerar_snips(seqs, L , offset_max, indice)\n",
    "#len(snips)"
   ],
   "outputs": []
  },
  {
   "cell_type": "code",
   "execution_count": 57,
   "metadata": {},
   "source": [
    "sum([max({base: snip.count(base) for base in 'ACGT'}.values()) for snip in snips])"
   ],
   "outputs": []
  },
  {
   "cell_type": "code",
   "execution_count": 58,
   "metadata": {},
   "source": [],
   "outputs": []
  },
  {
   "cell_type": "code",
   "execution_count": 35,
   "metadata": {
    "id": "00F4uh0_yLDt"
   },
   "source": [
    "# Criamos a PWM para os motizfs, excluindo o proveniente da nossa\n",
    "# string escolhida e encontramos o consenso\n",
    "\n",
    "def pwm(seqs , pseudo = 1):\n",
    "  # Criamos uma lista por compreensão que contém 1 dicionário de P(base) por sequência\n",
    "  return [\n",
    "      {base: (seq.count(base) + pseudo) / (len(seq) + 4 * pseudo) for base in 'ACGT'} for seq in zip(*seqs)\n",
    "      ]\n",
    "\n",
    "P = pwm(snips)\n",
    "#consenso = ''.join(max(pos, key=pos.get) for pos in P)\n",
    "P "
   ],
   "outputs": []
  },
  {
   "cell_type": "code",
   "execution_count": null,
   "metadata": {},
   "source": [
    "def pwm(seqs , pseudo = 1):\n",
    "  # Criamos uma lista por compreensão que contém 1 dicionário de P(base) por sequência\n",
    "  \n",
    "  \n",
    "  \n",
    "  return [\n",
    "      {base: (seq.count(base) + pseudo) / (len(seq) + 4 * pseudo) for base in 'ACGT'} for seq in zip(*seqs)\n",
    "      ]"
   ],
   "outputs": []
  },
  {
   "cell_type": "code",
   "execution_count": 36,
   "metadata": {},
   "source": [
    "[[0 for base in 'ACGT'] for _ in range(len(seqs))]\n",
    "\n",
    "[[seq.count(base) + pseudo /(len(seq) + 4 * pseudo) for base in 'ACGT'] for seq in seqs]\n"
   ],
   "outputs": []
  },
  {
   "cell_type": "code",
   "execution_count": 39,
   "metadata": {},
   "source": [
    "len(snips[0]), len(P)"
   ],
   "outputs": []
  },
  {
   "cell_type": "code",
   "execution_count": 48,
   "metadata": {
    "id": "K0EhxHZAjq9g"
   },
   "source": [
    "# Calculamos P(snip|P) para cada snip\n",
    "# Isto é, a probabilidade de cada snip ser gerado por P\n",
    "\n",
    "def prob_snip(snip, P):\n",
    "  '''\n",
    "  Função que calcula a P(snip|P), para determinar a probabilidade\n",
    "  deste ser gerado pelo perfil P\n",
    "\n",
    "  Parametros:\n",
    "\n",
    "  snip : str\n",
    "    strings correspondente a bases de DNA\n",
    "\n",
    "  P : list[dict]\n",
    "    perfil probabilistico para um conjunto de sub-sequências de DNA\n",
    "\n",
    "  Devolve:\n",
    "\n",
    "  float\n",
    "    P(snip|P)\n",
    "  '''\n",
    "  score = 1\n",
    "  for pos , base in enumerate(snip):\n",
    "    score *= P[pos][base]\n",
    "  return score\n",
    "\n",
    "from random import choices\n",
    "teste = [ list(c.values()) for c in P ]\n",
    "\n"
   ],
   "outputs": []
  },
  {
   "cell_type": "code",
   "execution_count": 82,
   "metadata": {},
   "source": [
    "for _ in range(len(escolhida) - L + 1):\n",
    "    motif = escolhida[_ : _ + L]\n",
    "    prob = 1\n",
    "    for __ in range(L):\n",
    "        prob *= P[__][motif[__]] / 10\n",
    "        #print(prob)\n",
    "\n",
    "\n",
    "res = []\n",
    "for offset in range(len(escolhida) - L + 1):\n",
    "\n",
    "    motif = escolhida[offset : offset + L]\n",
    "\n",
    "    prob = 1\n",
    "\n",
    "    for pos in range(L):\n",
    "\n",
    "        prob *= P[pos][motif[pos]] / 10 # -> será o nosso T\n",
    "\n",
    "    res.append(prob)\n",
    "\n",
    "res"
   ],
   "outputs": []
  },
  {
   "cell_type": "code",
   "execution_count": 17,
   "metadata": {
    "id": "eSiAzUrzsbDf"
   },
   "source": [
    "\n",
    "# Calculamos as probabilidades de modo a escolher a posição p com\n",
    "# melhor probabilidade de geração do motif\n",
    "\n",
    "def best_pos(snips, offsets, P):\n",
    "\n",
    "  from random import choices\n",
    "\n",
    "  # Calculamos P(snip|P) para cada snip\n",
    "  probs = [prob_snip(snip, P) for snip in snips]\n",
    "\n",
    "  # Calculamos a probabilidade combinada para cada snip\n",
    "  prob_comb = [round(prob/sum(probs),5) for prob in probs]\n",
    "\n",
    "  # Garantimos que a soma totaliza 1\n",
    "  assert round(sum(prob_comb),0) == 1\n",
    "\n",
    "  # Devolve a melhor probabilidade e o offset associado a este\n",
    "  return max(list(zip(prob_comb,offsets)))\n",
    "\n",
    "#melhor_prob, melhor_offset = best_pos(snips,offsets,P)\n",
    "#snips[melhor_offset]"
   ],
   "outputs": []
  },
  {
   "cell_type": "code",
   "execution_count": 40,
   "metadata": {},
   "source": [
    "from random import choices\n",
    "\n",
    "choices(snips, P)"
   ],
   "outputs": []
  },
  {
   "cell_type": "code",
   "execution_count": 18,
   "metadata": {
    "id": "utVhu78Z7U1u"
   },
   "source": [
    "#iter = 0\n",
    "\n",
    "def gibbs_sampler(seqs,L,iter, threshold):\n",
    "  '''\n",
    "  Add docstrings\n",
    "  '''\n",
    "  i_zero = iter\n",
    "  # Garantir que todas as sequências têm o mesmo tamanho\n",
    "  assert all(len(seq) == len(seqs[0]) for seq in seqs)\n",
    "\n",
    "  # Definir n como o tamanho das nossas sequências\n",
    "  n = len(seqs[0])\n",
    "\n",
    "  # Definir o valor de posição máximo possível (n - L)\n",
    "  offset_max = n - L\n",
    "\n",
    "  # Inicialização das variáveis-resultado\n",
    "  best_so_far = -1\n",
    "  best_offset_so_far = -1\n",
    "  best_motif_so_far = ''\n",
    "  best_motifs = []\n",
    "\n",
    "  # Iniciamos o loop de iterações em função do número indicado ou do threshold\n",
    "  while iter > 0 and best_so_far <= threshold:\n",
    "    #print(best_motif_so_far, best_so_far, best_offset_so_far)\n",
    "\n",
    "    # Escolhemos uma sequência aleatória\n",
    "    indice, escolhida = escolhe_seq(seqs)\n",
    "\n",
    "    # Determinamos snips e offsets para as restantes\n",
    "    offsets, snips = gerar_snips(seqs, L, offset_max, indice)\n",
    "    #print(snips)\n",
    "\n",
    "    # Geramos a matriz PWM\n",
    "    P = pwm(snips)\n",
    "\n",
    "    # Vemos a posição p com maior probabilidade e respetivo offset\n",
    "    best_p, best_o = best_pos(snips, offsets, P)\n",
    "    #print(best_p, best_o)\n",
    "\n",
    "    # Comparamos com o \"best so far\" e atualizamos\n",
    "    if best_p > best_so_far:\n",
    "      best_so_far = best_p\n",
    "      best_offset_so_far = best_o\n",
    "      best_motif_so_far = escolhida[best_o:best_o+L]\n",
    "\n",
    "      # Adicionamos o motif à lista de motifs candidatos\n",
    "      best_motifs.append((\n",
    "        f'S{str(indice)}',\n",
    "        f'p = {str(best_offset_so_far)}',\n",
    "        best_motif_so_far,\n",
    "        best_so_far))\n",
    "\n",
    "\n",
    "\n",
    "    iter -=1\n",
    "\n",
    "  print(f'Threshold {threshold} atingido ao fim de {i_zero-iter} iterações.')\n",
    "  return best_motifs\n",
    "\n"
   ],
   "outputs": []
  },
  {
   "cell_type": "code",
   "execution_count": 20,
   "metadata": {},
   "source": [],
   "outputs": []
  },
  {
   "cell_type": "code",
   "execution_count": 19,
   "metadata": {
    "colab": {
     "base_uri": "https://localhost:8080/"
    },
    "id": "PEMoExpZA2MR",
    "outputId": "d2c0312e-6bce-4a13-995f-275c1f982483"
   },
   "source": [
    "import time\n",
    "start = time.time()\n",
    "seqs = gerar_seqs(50,20)\n",
    "res = gibbs_sampler(seqs, 5, 100, 0.5)\n",
    "end = time.time()\n",
    "print(res)\n",
    "end - start\n",
    "\n"
   ],
   "outputs": []
  }
 ],
 "metadata": {
  "colab": {
   "authorship_tag": "ABX9TyNicBBjoKA60v1hx71y1yQI",
   "provenance": []
  },
  "kernelspec": {
   "display_name": "Python 3",
   "name": "python3"
  },
  "language_info": {
   "codemirror_mode": {
    "name": "ipython",
    "version": 3
   },
   "file_extension": ".py",
   "mimetype": "text/x-python",
   "name": "python",
   "nbconvert_exporter": "python",
   "pygments_lexer": "ipython3",
   "version": "3.12.2"
  }
 },
 "nbformat": 4,
 "nbformat_minor": 0
}
