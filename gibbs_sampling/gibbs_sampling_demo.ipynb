{
 "cells": [
  {
   "cell_type": "markdown",
   "source": [
    "TODO:\n",
    "\n",
    "- Remover o código assim que ficar finalizado e passado para a pasta scripts\n",
    "- Escrever testes e documentação de funções\n",
    "- "
   ],
   "metadata": {
    "collapsed": false
   }
  },
  {
   "cell_type": "markdown",
   "metadata": {
    "id": "N6skkvM8w1YV"
   },
   "source": [
    "# Gibbs Sampling, o que é?\n",
    "\n",
    "É um algoritmo do tipo MCMC (Markov Chain monte Carlo) tipicamente utilizado para extrair amostras de distribuições de probabilidade n-dimensionais, facilitando a amostragem.\n",
    "\n",
    "É uma técnica que serve para obter uma sequência de observações (neste caso uma sub-sequências de DNA).\n",
    "\n",
    "# Como serve para encontrar *motifs*?\n",
    "\n",
    "Serve para encontrar o padrão/*motif* mais comum a um conjunto de sequências partindo de um conjunto aleatório de padrões.\n",
    "\n",
    "# Como é aplicado?\n",
    "\n",
    "0. Considerando um conjunto de T sequências de tamanho N, é gerada a sua PWM\n",
    "\n",
    "1. Computamos o subtotal de todas as sequências em função do PWM multiplicando a ocorrência de cada nucleótido pela sua probabilidade na PWM.\n",
    "\n",
    "2. É procurada a sub-sequência de tamanho L na sequência S<sub>i</sub> a partir da posição P (P $\\le$ N-L), em que P é selecionada aleatoriamente em função da distribuição de probabilidades e score total da sequência - P(motif|score da sequência). É computado o *score* do *motif* em função da matriz de probabilidade (PWM)\n",
    "\n",
    "3. Repetimos este passo para todas as restantes sequências (S<sub>i+1</sub>,...,S<sub>t</sub>), atualizando o melhor motif caso o score dos motifs identificados for superior ao melhor atual.\n",
    "\n",
    "4. São feitas sucessivas iterações até convergir para um *motif* mais comum ao conjunto de todas as sequências S (S<sub>i</sub>,...,S<sub>i+t</sub>) e encontrar as melhores posições.\n"
   ]
  },
  {
   "cell_type": "code",
   "execution_count": null,
   "metadata": {
    "colab": {
     "base_uri": "https://localhost:8080/",
     "height": 53
    },
    "id": "2SLMrpK-w1Fp",
    "outputId": "320f99e2-8165-49e8-d34f-163e8f548719"
   },
   "outputs": [
    {
     "data": {
      "application/vnd.google.colaboratory.intrinsic+json": {
       "type": "string"
      },
      "text/plain": [
       "'\\nCriamos a PWM de forma rápida\\n\\nNeste caso usamos uma lista por compreensão com recurso ao método zip(*seqqs) que\\nirá emparelhar as sequências posição a posição e faz a contagem da base / pelo total\\n\\nIncluímos já a consideração de pseudocontagens\\n'"
      ]
     },
     "execution_count": 16,
     "metadata": {},
     "output_type": "execute_result"
    }
   ],
   "source": [
    "# Conjunto de sequências\n",
    "seqs = 'aaaaaa aaaaaa aaaaaa gggggg'.split()\n",
    "\n",
    "'''\n",
    "Criamos a PWM de forma rápida\n",
    "\n",
    "Neste caso usamos uma lista por compreensão com recurso ao método zip(*seqqs) que\n",
    "irá emparelhar as sequências posição a posição e faz a contagem da base / pelo total\n",
    "\n",
    "Incluímos já a consideração de pseudocontagens\n",
    "'''"
   ]
  },
  {
   "cell_type": "code",
   "execution_count": null,
   "metadata": {
    "id": "NtzB2-sICgvN"
   },
   "outputs": [],
   "source": [
    "from random import randint as ri\n",
    "from random import choice\n",
    "\n",
    "# Gerar sequências aleatoriamente para teste\n",
    "seqs = new_seqs = [''.join(choice('ACGT') for _ in range(20)) for i in range(10)]"
   ]
  },
  {
   "cell_type": "code",
   "execution_count": 11,
   "metadata": {
    "id": "3dv2Mzv09UHk"
   },
   "outputs": [],
   "source": [
    "def gerar_seqs(n,t):\n",
    "  from random import choice\n",
    "  return [''.join(choice('ACGT') for p in range(n)) for i in range(t)]\n"
   ]
  },
  {
   "cell_type": "code",
   "execution_count": 12,
   "metadata": {
    "id": "AlWuPJocwuek"
   },
   "outputs": [],
   "source": [
    "'''\n",
    "Selecionamos posições aleatórias para cada sequência, tendo em atenção o\n",
    "tamanho do nosso motif\n",
    "'''\n",
    "\n",
    "# Declaramos o tamanho do nosso motif\n",
    "L = 8\n",
    "\n",
    "# Declaramos t, que corresponde ao número de sequências que temos\n",
    "t = len(new_seqs) -1\n",
    "\n",
    "# Declaramos n, que corresponde ao tamanho das nossas sequências\n",
    "# assumindo que são todas de tamanho igual\n",
    "n = len(new_seqs[0])\n",
    "\n",
    "# Declaramos o valor máximo de offset que podemos atingir\n",
    "offset_max = n - L"
   ]
  },
  {
   "cell_type": "code",
   "execution_count": 13,
   "metadata": {
    "id": "XB3Iz0odv0Uu"
   },
   "outputs": [],
   "source": [
    "# De seguida escolhemos uma sequência aleatoriamente da nossa lista de sequências\n",
    "# para analisar a probabilidade de cada um dos motifs ocorrer nessa sequência\n",
    "# Atentar no len(lista) - 1 para garantir que estamos sempre no índice\n",
    "\n",
    "def escolhe_seq(seqs):\n",
    "  from random import choice\n",
    "  return choice(list(enumerate(seqs)))\n"
   ]
  },
  {
   "cell_type": "code",
   "execution_count": 49,
   "metadata": {
    "id": "JuwQ3WbskYm4"
   },
   "outputs": [],
   "source": [
    "# Criamos um vetor com as posições selecionadas aleatoriamente\n",
    "# E criamos os snips para cada um deles\n",
    "from random import randint as ri\n",
    "from random import choice\n",
    "\n",
    "# Gerar sequências aleatoriamente para teste\n",
    "seqs = gerar_seqs(50,10)\n",
    "\n",
    "indice, escolhida = escolhe_seq(seqs)\n",
    "\n",
    "# Função para gerar snips aleatórios de sequências exceto a escolhida\n",
    "def gerar_snips(seqs , L , offset_max, indice):\n",
    "\n",
    "  from random import randint as ri\n",
    "\n",
    "  offsets = [ri(0,offset_max) for pos, seq in enumerate(seqs) if pos != indice]\n",
    "  snips = [seq[pos: pos + L] for seq, pos in zip(seqs,offsets) if seq != seq[indice]]\n",
    "\n",
    "  return offsets, snips\n",
    "\n",
    "offsets, snips = gerar_snips(seqs, L , offset_max, indice)\n",
    "#len(snips)"
   ]
  },
  {
   "cell_type": "code",
   "execution_count": 57,
   "metadata": {},
   "outputs": [
    {
     "data": {
      "text/plain": [
       "34"
      ]
     },
     "execution_count": 57,
     "metadata": {},
     "output_type": "execute_result"
    }
   ],
   "source": [
    "sum([max({base: snip.count(base) for base in 'ACGT'}.values()) for snip in snips])"
   ]
  },
  {
   "cell_type": "code",
   "execution_count": 58,
   "metadata": {},
   "outputs": [
    {
     "data": {
      "text/plain": [
       "[{'A': 0.15384615384615385,\n",
       "  'C': 0.23076923076923078,\n",
       "  'G': 0.3076923076923077,\n",
       "  'T': 0.3076923076923077},\n",
       " {'A': 0.15384615384615385,\n",
       "  'C': 0.15384615384615385,\n",
       "  'G': 0.23076923076923078,\n",
       "  'T': 0.46153846153846156},\n",
       " {'A': 0.15384615384615385,\n",
       "  'C': 0.46153846153846156,\n",
       "  'G': 0.07692307692307693,\n",
       "  'T': 0.3076923076923077},\n",
       " {'A': 0.38461538461538464,\n",
       "  'C': 0.23076923076923078,\n",
       "  'G': 0.07692307692307693,\n",
       "  'T': 0.3076923076923077},\n",
       " {'A': 0.23076923076923078,\n",
       "  'C': 0.23076923076923078,\n",
       "  'G': 0.3076923076923077,\n",
       "  'T': 0.23076923076923078},\n",
       " {'A': 0.23076923076923078,\n",
       "  'C': 0.23076923076923078,\n",
       "  'G': 0.46153846153846156,\n",
       "  'T': 0.07692307692307693},\n",
       " {'A': 0.23076923076923078,\n",
       "  'C': 0.07692307692307693,\n",
       "  'G': 0.3076923076923077,\n",
       "  'T': 0.38461538461538464},\n",
       " {'A': 0.38461538461538464,\n",
       "  'C': 0.23076923076923078,\n",
       "  'G': 0.23076923076923078,\n",
       "  'T': 0.15384615384615385}]"
      ]
     },
     "execution_count": 58,
     "metadata": {},
     "output_type": "execute_result"
    }
   ],
   "source": []
  },
  {
   "cell_type": "code",
   "execution_count": 35,
   "metadata": {
    "id": "00F4uh0_yLDt"
   },
   "outputs": [
    {
     "data": {
      "text/plain": [
       "[{'A': 0.15384615384615385,\n",
       "  'C': 0.23076923076923078,\n",
       "  'G': 0.3076923076923077,\n",
       "  'T': 0.3076923076923077},\n",
       " {'A': 0.15384615384615385,\n",
       "  'C': 0.15384615384615385,\n",
       "  'G': 0.23076923076923078,\n",
       "  'T': 0.46153846153846156},\n",
       " {'A': 0.15384615384615385,\n",
       "  'C': 0.46153846153846156,\n",
       "  'G': 0.07692307692307693,\n",
       "  'T': 0.3076923076923077},\n",
       " {'A': 0.38461538461538464,\n",
       "  'C': 0.23076923076923078,\n",
       "  'G': 0.07692307692307693,\n",
       "  'T': 0.3076923076923077},\n",
       " {'A': 0.23076923076923078,\n",
       "  'C': 0.23076923076923078,\n",
       "  'G': 0.3076923076923077,\n",
       "  'T': 0.23076923076923078},\n",
       " {'A': 0.23076923076923078,\n",
       "  'C': 0.23076923076923078,\n",
       "  'G': 0.46153846153846156,\n",
       "  'T': 0.07692307692307693},\n",
       " {'A': 0.23076923076923078,\n",
       "  'C': 0.07692307692307693,\n",
       "  'G': 0.3076923076923077,\n",
       "  'T': 0.38461538461538464},\n",
       " {'A': 0.38461538461538464,\n",
       "  'C': 0.23076923076923078,\n",
       "  'G': 0.23076923076923078,\n",
       "  'T': 0.15384615384615385}]"
      ]
     },
     "execution_count": 35,
     "metadata": {},
     "output_type": "execute_result"
    }
   ],
   "source": [
    "# Criamos a PWM para os motizfs, excluindo o proveniente da nossa\n",
    "# string escolhida e encontramos o consenso\n",
    "\n",
    "def pwm(seqs , pseudo = 1):\n",
    "  # Criamos uma lista por compreensão que contém 1 dicionário de P(base) por sequência\n",
    "  return [\n",
    "      {base: (seq.count(base) + pseudo) / (len(seq) + 4 * pseudo) for base in 'ACGT'} for seq in zip(*seqs)\n",
    "      ]\n",
    "\n",
    "P = pwm(snips)\n",
    "#consenso = ''.join(max(pos, key=pos.get) for pos in P)\n",
    "P "
   ]
  },
  {
   "cell_type": "code",
   "execution_count": null,
   "metadata": {},
   "outputs": [],
   "source": [
    "def pwm(seqs , pseudo = 1):\n",
    "  # Criamos uma lista por compreensão que contém 1 dicionário de P(base) por sequência\n",
    "  \n",
    "  \n",
    "  \n",
    "  return [\n",
    "      {base: (seq.count(base) + pseudo) / (len(seq) + 4 * pseudo) for base in 'ACGT'} for seq in zip(*seqs)\n",
    "      ]"
   ]
  },
  {
   "cell_type": "code",
   "execution_count": 36,
   "metadata": {},
   "outputs": [
    {
     "ename": "NameError",
     "evalue": "name 'pseudo' is not defined",
     "output_type": "error",
     "traceback": [
      "\u001B[0;31m---------------------------------------------------------------------------\u001B[0m",
      "\u001B[0;31mNameError\u001B[0m                                 Traceback (most recent call last)",
      "Cell \u001B[0;32mIn[36], line 3\u001B[0m\n\u001B[1;32m      1\u001B[0m [[\u001B[38;5;241m0\u001B[39m \u001B[38;5;28;01mfor\u001B[39;00m base \u001B[38;5;129;01min\u001B[39;00m \u001B[38;5;124m'\u001B[39m\u001B[38;5;124mACGT\u001B[39m\u001B[38;5;124m'\u001B[39m] \u001B[38;5;28;01mfor\u001B[39;00m _ \u001B[38;5;129;01min\u001B[39;00m \u001B[38;5;28mrange\u001B[39m(\u001B[38;5;28mlen\u001B[39m(seqs))]\n\u001B[0;32m----> 3\u001B[0m \u001B[43m[\u001B[49m\u001B[43m[\u001B[49m\u001B[43mseq\u001B[49m\u001B[38;5;241;43m.\u001B[39;49m\u001B[43mcount\u001B[49m\u001B[43m(\u001B[49m\u001B[43mbase\u001B[49m\u001B[43m)\u001B[49m\u001B[43m \u001B[49m\u001B[38;5;241;43m+\u001B[39;49m\u001B[43m \u001B[49m\u001B[43mpseudo\u001B[49m\u001B[43m \u001B[49m\u001B[38;5;241;43m/\u001B[39;49m\u001B[43m(\u001B[49m\u001B[38;5;28;43mlen\u001B[39;49m\u001B[43m(\u001B[49m\u001B[43mseq\u001B[49m\u001B[43m)\u001B[49m\u001B[43m \u001B[49m\u001B[38;5;241;43m+\u001B[39;49m\u001B[43m \u001B[49m\u001B[38;5;241;43m4\u001B[39;49m\u001B[43m \u001B[49m\u001B[38;5;241;43m*\u001B[39;49m\u001B[43m \u001B[49m\u001B[43mpseudo\u001B[49m\u001B[43m)\u001B[49m\u001B[43m \u001B[49m\u001B[38;5;28;43;01mfor\u001B[39;49;00m\u001B[43m \u001B[49m\u001B[43mbase\u001B[49m\u001B[43m \u001B[49m\u001B[38;5;129;43;01min\u001B[39;49;00m\u001B[43m \u001B[49m\u001B[38;5;124;43m'\u001B[39;49m\u001B[38;5;124;43mACGT\u001B[39;49m\u001B[38;5;124;43m'\u001B[39;49m\u001B[43m]\u001B[49m\u001B[43m \u001B[49m\u001B[38;5;28;43;01mfor\u001B[39;49;00m\u001B[43m \u001B[49m\u001B[43mseq\u001B[49m\u001B[43m \u001B[49m\u001B[38;5;129;43;01min\u001B[39;49;00m\u001B[43m \u001B[49m\u001B[43mseqs\u001B[49m\u001B[43m]\u001B[49m\n",
      "Cell \u001B[0;32mIn[36], line 3\u001B[0m, in \u001B[0;36m<listcomp>\u001B[0;34m(.0)\u001B[0m\n\u001B[1;32m      1\u001B[0m [[\u001B[38;5;241m0\u001B[39m \u001B[38;5;28;01mfor\u001B[39;00m base \u001B[38;5;129;01min\u001B[39;00m \u001B[38;5;124m'\u001B[39m\u001B[38;5;124mACGT\u001B[39m\u001B[38;5;124m'\u001B[39m] \u001B[38;5;28;01mfor\u001B[39;00m _ \u001B[38;5;129;01min\u001B[39;00m \u001B[38;5;28mrange\u001B[39m(\u001B[38;5;28mlen\u001B[39m(seqs))]\n\u001B[0;32m----> 3\u001B[0m [\u001B[43m[\u001B[49m\u001B[43mseq\u001B[49m\u001B[38;5;241;43m.\u001B[39;49m\u001B[43mcount\u001B[49m\u001B[43m(\u001B[49m\u001B[43mbase\u001B[49m\u001B[43m)\u001B[49m\u001B[43m \u001B[49m\u001B[38;5;241;43m+\u001B[39;49m\u001B[43m \u001B[49m\u001B[43mpseudo\u001B[49m\u001B[43m \u001B[49m\u001B[38;5;241;43m/\u001B[39;49m\u001B[43m(\u001B[49m\u001B[38;5;28;43mlen\u001B[39;49m\u001B[43m(\u001B[49m\u001B[43mseq\u001B[49m\u001B[43m)\u001B[49m\u001B[43m \u001B[49m\u001B[38;5;241;43m+\u001B[39;49m\u001B[43m \u001B[49m\u001B[38;5;241;43m4\u001B[39;49m\u001B[43m \u001B[49m\u001B[38;5;241;43m*\u001B[39;49m\u001B[43m \u001B[49m\u001B[43mpseudo\u001B[49m\u001B[43m)\u001B[49m\u001B[43m \u001B[49m\u001B[38;5;28;43;01mfor\u001B[39;49;00m\u001B[43m \u001B[49m\u001B[43mbase\u001B[49m\u001B[43m \u001B[49m\u001B[38;5;129;43;01min\u001B[39;49;00m\u001B[43m \u001B[49m\u001B[38;5;124;43m'\u001B[39;49m\u001B[38;5;124;43mACGT\u001B[39;49m\u001B[38;5;124;43m'\u001B[39;49m\u001B[43m]\u001B[49m \u001B[38;5;28;01mfor\u001B[39;00m seq \u001B[38;5;129;01min\u001B[39;00m seqs]\n",
      "Cell \u001B[0;32mIn[36], line 3\u001B[0m, in \u001B[0;36m<listcomp>\u001B[0;34m(.0)\u001B[0m\n\u001B[1;32m      1\u001B[0m [[\u001B[38;5;241m0\u001B[39m \u001B[38;5;28;01mfor\u001B[39;00m base \u001B[38;5;129;01min\u001B[39;00m \u001B[38;5;124m'\u001B[39m\u001B[38;5;124mACGT\u001B[39m\u001B[38;5;124m'\u001B[39m] \u001B[38;5;28;01mfor\u001B[39;00m _ \u001B[38;5;129;01min\u001B[39;00m \u001B[38;5;28mrange\u001B[39m(\u001B[38;5;28mlen\u001B[39m(seqs))]\n\u001B[0;32m----> 3\u001B[0m [[seq\u001B[38;5;241m.\u001B[39mcount(base) \u001B[38;5;241m+\u001B[39m \u001B[43mpseudo\u001B[49m \u001B[38;5;241m/\u001B[39m(\u001B[38;5;28mlen\u001B[39m(seq) \u001B[38;5;241m+\u001B[39m \u001B[38;5;241m4\u001B[39m \u001B[38;5;241m*\u001B[39m pseudo) \u001B[38;5;28;01mfor\u001B[39;00m base \u001B[38;5;129;01min\u001B[39;00m \u001B[38;5;124m'\u001B[39m\u001B[38;5;124mACGT\u001B[39m\u001B[38;5;124m'\u001B[39m] \u001B[38;5;28;01mfor\u001B[39;00m seq \u001B[38;5;129;01min\u001B[39;00m seqs]\n",
      "\u001B[0;31mNameError\u001B[0m: name 'pseudo' is not defined"
     ]
    }
   ],
   "source": [
    "[[0 for base in 'ACGT'] for _ in range(len(seqs))]\n",
    "\n",
    "[[seq.count(base) + pseudo /(len(seq) + 4 * pseudo) for base in 'ACGT'] for seq in seqs]\n"
   ]
  },
  {
   "cell_type": "code",
   "execution_count": 39,
   "metadata": {},
   "outputs": [
    {
     "data": {
      "text/plain": [
       "(8, 8)"
      ]
     },
     "execution_count": 39,
     "metadata": {},
     "output_type": "execute_result"
    }
   ],
   "source": [
    "len(snips[0]), len(P)"
   ]
  },
  {
   "cell_type": "code",
   "execution_count": 48,
   "metadata": {
    "id": "K0EhxHZAjq9g"
   },
   "outputs": [
    {
     "data": {
      "text/plain": [
       "8"
      ]
     },
     "execution_count": 48,
     "metadata": {},
     "output_type": "execute_result"
    }
   ],
   "source": [
    "# Calculamos P(snip|P) para cada snip\n",
    "# Isto é, a probabilidade de cada snip ser gerado por P\n",
    "\n",
    "def prob_snip(snip, P):\n",
    "  '''\n",
    "  Função que calcula a P(snip|P), para determinar a probabilidade\n",
    "  deste ser gerado pelo perfil P\n",
    "\n",
    "  Parametros:\n",
    "\n",
    "  snip : str\n",
    "    strings correspondente a bases de DNA\n",
    "\n",
    "  P : list[dict]\n",
    "    perfil probabilistico para um conjunto de sub-sequências de DNA\n",
    "\n",
    "  Devolve:\n",
    "\n",
    "  float\n",
    "    P(snip|P)\n",
    "  '''\n",
    "  score = 1\n",
    "  for pos , base in enumerate(snip):\n",
    "    score *= P[pos][base]\n",
    "  return score\n",
    "\n",
    "from random import choices\n",
    "teste = [ list(c.values()) for c in P ]\n",
    "\n"
   ]
  },
  {
   "cell_type": "code",
   "execution_count": 82,
   "metadata": {},
   "outputs": [
    {
     "data": {
      "text/plain": [
       "[5.295865276109911e-14,\n",
       " 6.619831595137389e-14,\n",
       " 4.413221063424926e-15,\n",
       " 2.647932638054955e-14,\n",
       " 8.826442126849853e-14,\n",
       " 2.6479326380549555e-14,\n",
       " 7.14941812274838e-13,\n",
       " 8.473384441775857e-14,\n",
       " 5.95784843562365e-13,\n",
       " 1.0591730552219822e-13,\n",
       " 2.1183461104439644e-13,\n",
       " 1.129784592236781e-13,\n",
       " 5.648922961183905e-14,\n",
       " 1.0591730552219824e-14,\n",
       " 2.118346110443965e-14,\n",
       " 3.177519165665947e-14,\n",
       " 2.1183461104439649e-13,\n",
       " 1.2710076662663787e-13,\n",
       " 1.1768589502466468e-14,\n",
       " 4.964873696353042e-15,\n",
       " 4.413221063424926e-14,\n",
       " 1.9065114993995681e-13,\n",
       " 2.259569184473562e-13,\n",
       " 1.271007666266379e-13,\n",
       " 1.0591730552219822e-13,\n",
       " 1.7652884253699706e-14,\n",
       " 5.2958652761099106e-15,\n",
       " 2.978924217811825e-14,\n",
       " 9.532557496997841e-14,\n",
       " 1.0591730552219822e-13,\n",
       " 1.0591730552219824e-13,\n",
       " 4.4132210634249266e-15,\n",
       " 3.57470906137419e-14,\n",
       " 9.532557496997841e-14,\n",
       " 8.473384441775857e-14,\n",
       " 1.7873545306870952e-12,\n",
       " 7.061153701479881e-15,\n",
       " 4.7662787484989203e-14,\n",
       " 7.061153701479881e-15,\n",
       " 3.9718989570824336e-13,\n",
       " 4.7662787484989203e-14,\n",
       " 3.1775191656659467e-14,\n",
       " 5.719534498198704e-13]"
      ]
     },
     "execution_count": 82,
     "metadata": {},
     "output_type": "execute_result"
    }
   ],
   "source": [
    "for _ in range(len(escolhida) - L + 1):\n",
    "    motif = escolhida[_ : _ + L]\n",
    "    prob = 1\n",
    "    for __ in range(L):\n",
    "        prob *= P[__][motif[__]] / 10\n",
    "        #print(prob)\n",
    "\n",
    "\n",
    "res = []\n",
    "for offset in range(len(escolhida) - L + 1):\n",
    "\n",
    "    motif = escolhida[offset : offset + L]\n",
    "\n",
    "    prob = 1\n",
    "\n",
    "    for pos in range(L):\n",
    "\n",
    "        prob *= P[pos][motif[pos]] / 10 # -> será o nosso T\n",
    "\n",
    "    res.append(prob)\n",
    "\n",
    "res"
   ]
  },
  {
   "cell_type": "code",
   "execution_count": 17,
   "metadata": {
    "id": "eSiAzUrzsbDf"
   },
   "outputs": [],
   "source": [
    "\n",
    "# Calculamos as probabilidades de modo a escolher a posição p com\n",
    "# melhor probabilidade de geração do motif\n",
    "\n",
    "def best_pos(snips, offsets, P):\n",
    "\n",
    "  from random import choices\n",
    "\n",
    "  # Calculamos P(snip|P) para cada snip\n",
    "  probs = [prob_snip(snip, P) for snip in snips]\n",
    "\n",
    "  # Calculamos a probabilidade combinada para cada snip\n",
    "  prob_comb = [round(prob/sum(probs),5) for prob in probs]\n",
    "\n",
    "  # Garantimos que a soma totaliza 1\n",
    "  assert round(sum(prob_comb),0) == 1\n",
    "\n",
    "  # Devolve a melhor probabilidade e o offset associado a este\n",
    "  return max(list(zip(prob_comb,offsets)))\n",
    "\n",
    "#melhor_prob, melhor_offset = best_pos(snips,offsets,P)\n",
    "#snips[melhor_offset]"
   ]
  },
  {
   "cell_type": "code",
   "execution_count": 40,
   "metadata": {},
   "outputs": [
    {
     "ename": "TypeError",
     "evalue": "unsupported operand type(s) for +: 'dict' and 'dict'",
     "output_type": "error",
     "traceback": [
      "\u001B[0;31m---------------------------------------------------------------------------\u001B[0m",
      "\u001B[0;31mTypeError\u001B[0m                                 Traceback (most recent call last)",
      "Cell \u001B[0;32mIn[40], line 3\u001B[0m\n\u001B[1;32m      1\u001B[0m \u001B[38;5;28;01mfrom\u001B[39;00m \u001B[38;5;21;01mrandom\u001B[39;00m \u001B[38;5;28;01mimport\u001B[39;00m choices\n\u001B[0;32m----> 3\u001B[0m \u001B[43mchoices\u001B[49m\u001B[43m(\u001B[49m\u001B[43msnips\u001B[49m\u001B[43m,\u001B[49m\u001B[43m \u001B[49m\u001B[43mP\u001B[49m\u001B[43m)\u001B[49m\n",
      "File \u001B[0;32m/Library/Frameworks/Python.framework/Versions/3.11/lib/python3.11/random.py:495\u001B[0m, in \u001B[0;36mRandom.choices\u001B[0;34m(self, population, weights, cum_weights, k)\u001B[0m\n\u001B[1;32m    493\u001B[0m     \u001B[38;5;28;01mreturn\u001B[39;00m [population[floor(random() \u001B[38;5;241m*\u001B[39m n)] \u001B[38;5;28;01mfor\u001B[39;00m i \u001B[38;5;129;01min\u001B[39;00m _repeat(\u001B[38;5;28;01mNone\u001B[39;00m, k)]\n\u001B[1;32m    494\u001B[0m \u001B[38;5;28;01mtry\u001B[39;00m:\n\u001B[0;32m--> 495\u001B[0m     cum_weights \u001B[38;5;241m=\u001B[39m \u001B[38;5;28;43mlist\u001B[39;49m\u001B[43m(\u001B[49m\u001B[43m_accumulate\u001B[49m\u001B[43m(\u001B[49m\u001B[43mweights\u001B[49m\u001B[43m)\u001B[49m\u001B[43m)\u001B[49m\n\u001B[1;32m    496\u001B[0m \u001B[38;5;28;01mexcept\u001B[39;00m \u001B[38;5;167;01mTypeError\u001B[39;00m:\n\u001B[1;32m    497\u001B[0m     \u001B[38;5;28;01mif\u001B[39;00m \u001B[38;5;129;01mnot\u001B[39;00m \u001B[38;5;28misinstance\u001B[39m(weights, \u001B[38;5;28mint\u001B[39m):\n",
      "\u001B[0;31mTypeError\u001B[0m: unsupported operand type(s) for +: 'dict' and 'dict'"
     ]
    }
   ],
   "source": [
    "from random import choices\n",
    "\n",
    "choices(snips, P)"
   ]
  },
  {
   "cell_type": "code",
   "execution_count": 18,
   "metadata": {
    "id": "utVhu78Z7U1u"
   },
   "outputs": [],
   "source": [
    "#iter = 0\n",
    "\n",
    "def gibbs_sampler(seqs,L,iter, threshold):\n",
    "  '''\n",
    "  Add docstrings\n",
    "  '''\n",
    "  i_zero = iter\n",
    "  # Garantir que todas as sequências têm o mesmo tamanho\n",
    "  assert all(len(seq) == len(seqs[0]) for seq in seqs)\n",
    "\n",
    "  # Definir n como o tamanho das nossas sequências\n",
    "  n = len(seqs[0])\n",
    "\n",
    "  # Definir o valor de posição máximo possível (n - L)\n",
    "  offset_max = n - L\n",
    "\n",
    "  # Inicialização das variáveis-resultado\n",
    "  best_so_far = -1\n",
    "  best_offset_so_far = -1\n",
    "  best_motif_so_far = ''\n",
    "  best_motifs = []\n",
    "\n",
    "  # Iniciamos o loop de iterações em função do número indicado ou do threshold\n",
    "  while iter > 0 and best_so_far <= threshold:\n",
    "    #print(best_motif_so_far, best_so_far, best_offset_so_far)\n",
    "\n",
    "    # Escolhemos uma sequência aleatória\n",
    "    indice, escolhida = escolhe_seq(seqs)\n",
    "\n",
    "    # Determinamos snips e offsets para as restantes\n",
    "    offsets, snips = gerar_snips(seqs, L, offset_max, indice)\n",
    "    #print(snips)\n",
    "\n",
    "    # Geramos a matriz PWM\n",
    "    P = pwm(snips)\n",
    "\n",
    "    # Vemos a posição p com maior probabilidade e respetivo offset\n",
    "    best_p, best_o = best_pos(snips, offsets, P)\n",
    "    #print(best_p, best_o)\n",
    "\n",
    "    # Comparamos com o \"best so far\" e atualizamos\n",
    "    if best_p > best_so_far:\n",
    "      best_so_far = best_p\n",
    "      best_offset_so_far = best_o\n",
    "      best_motif_so_far = escolhida[best_o:best_o+L]\n",
    "\n",
    "      # Adicionamos o motif à lista de motifs candidatos\n",
    "      best_motifs.append((\n",
    "        f'S{str(indice)}',\n",
    "        f'p = {str(best_offset_so_far)}',\n",
    "        best_motif_so_far,\n",
    "        best_so_far))\n",
    "\n",
    "\n",
    "\n",
    "    iter -=1\n",
    "\n",
    "  print(f'Threshold {threshold} atingido ao fim de {i_zero-iter} iterações.')\n",
    "  return best_motifs\n",
    "\n"
   ]
  },
  {
   "cell_type": "code",
   "execution_count": 20,
   "metadata": {},
   "outputs": [
    {
     "ename": "NameError",
     "evalue": "name 'P' is not defined",
     "output_type": "error",
     "traceback": [
      "\u001B[0;31m---------------------------------------------------------------------------\u001B[0m",
      "\u001B[0;31mNameError\u001B[0m                                 Traceback (most recent call last)",
      "Cell \u001B[0;32mIn[20], line 1\u001B[0m\n\u001B[0;32m----> 1\u001B[0m \u001B[43mP\u001B[49m\n",
      "\u001B[0;31mNameError\u001B[0m: name 'P' is not defined"
     ]
    }
   ],
   "source": []
  },
  {
   "cell_type": "code",
   "execution_count": 19,
   "metadata": {
    "colab": {
     "base_uri": "https://localhost:8080/"
    },
    "id": "PEMoExpZA2MR",
    "outputId": "d2c0312e-6bce-4a13-995f-275c1f982483"
   },
   "outputs": [
    {
     "name": "stdout",
     "output_type": "stream",
     "text": [
      "Threshold 0.5 atingido ao fim de 100 iterações.\n",
      "[('S11', 'p = 13', 'TGGTC', 0.0865), ('S0', 'p = 36', 'TTACC', 0.10928), ('S14', 'p = 30', 'CCCCT', 0.12677), ('S1', 'p = 43', 'CCGCA', 0.12905), ('S2', 'p = 19', 'GTCCA', 0.13101), ('S6', 'p = 41', 'GAGTA', 0.13591), ('S17', 'p = 8', 'ATTCT', 0.19812)]\n"
     ]
    },
    {
     "data": {
      "text/plain": [
       "0.00664067268371582"
      ]
     },
     "execution_count": 19,
     "metadata": {},
     "output_type": "execute_result"
    }
   ],
   "source": [
    "import time\n",
    "start = time.time()\n",
    "seqs = gerar_seqs(50,20)\n",
    "res = gibbs_sampler(seqs, 5, 100, 0.5)\n",
    "end = time.time()\n",
    "print(res)\n",
    "end - start\n",
    "\n"
   ]
  }
 ],
 "metadata": {
  "colab": {
   "authorship_tag": "ABX9TyNicBBjoKA60v1hx71y1yQI",
   "provenance": []
  },
  "kernelspec": {
   "display_name": "Python 3",
   "name": "python3"
  },
  "language_info": {
   "codemirror_mode": {
    "name": "ipython",
    "version": 3
   },
   "file_extension": ".py",
   "mimetype": "text/x-python",
   "name": "python",
   "nbconvert_exporter": "python",
   "pygments_lexer": "ipython3",
   "version": "3.11.5"
  }
 },
 "nbformat": 4,
 "nbformat_minor": 0
}
